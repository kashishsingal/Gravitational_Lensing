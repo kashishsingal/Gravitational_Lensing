{
 "cells": [
  {
   "cell_type": "markdown",
   "metadata": {},
   "source": [
    "## This is my cheat sheet"
   ]
  },
  {
   "cell_type": "code",
   "execution_count": 5,
   "metadata": {
    "collapsed": false
   },
   "outputs": [
    {
     "data": {
      "text/plain": [
       "1"
      ]
     },
     "execution_count": 5,
     "metadata": {},
     "output_type": "execute_result"
    }
   ],
   "source": [
    "1"
   ]
  },
  {
   "cell_type": "code",
   "execution_count": 6,
   "metadata": {
    "collapsed": false
   },
   "outputs": [
    {
     "name": "stdout",
     "output_type": "stream",
     "text": [
      "hello\n"
     ]
    }
   ],
   "source": [
    "print \"hello\""
   ]
  },
  {
   "cell_type": "code",
   "execution_count": 7,
   "metadata": {
    "collapsed": false
   },
   "outputs": [
    {
     "data": {
      "text/plain": [
       "'hello'"
      ]
     },
     "execution_count": 7,
     "metadata": {},
     "output_type": "execute_result"
    }
   ],
   "source": [
    "\"hello\""
   ]
  },
  {
   "cell_type": "code",
   "execution_count": 8,
   "metadata": {
    "collapsed": false
   },
   "outputs": [
    {
     "ename": "TypeError",
     "evalue": "cannot concatenate 'str' and 'int' objects",
     "output_type": "error",
     "traceback": [
      "\u001b[1;31m---------------------------------------------------------------------------\u001b[0m",
      "\u001b[1;31mTypeError\u001b[0m                                 Traceback (most recent call last)",
      "\u001b[1;32m<ipython-input-8-978b0a2bd7bb>\u001b[0m in \u001b[0;36m<module>\u001b[1;34m()\u001b[0m\n\u001b[1;32m----> 1\u001b[1;33m \u001b[1;34m\"hello\"\u001b[0m \u001b[1;33m+\u001b[0m \u001b[1;36m4\u001b[0m\u001b[1;33m\u001b[0m\u001b[0m\n\u001b[0m",
      "\u001b[1;31mTypeError\u001b[0m: cannot concatenate 'str' and 'int' objects"
     ]
    }
   ],
   "source": [
    "\"hello\" + 4"
   ]
  },
  {
   "cell_type": "code",
   "execution_count": 9,
   "metadata": {
    "collapsed": false
   },
   "outputs": [
    {
     "data": {
      "text/plain": [
       "'hello4'"
      ]
     },
     "execution_count": 9,
     "metadata": {},
     "output_type": "execute_result"
    }
   ],
   "source": [
    "\"hello\" + \"4\""
   ]
  },
  {
   "cell_type": "code",
   "execution_count": 12,
   "metadata": {
    "collapsed": false
   },
   "outputs": [],
   "source": [
    "#This is a comment"
   ]
  },
  {
   "cell_type": "code",
   "execution_count": 11,
   "metadata": {
    "collapsed": false
   },
   "outputs": [
    {
     "data": {
      "text/plain": [
       "3"
      ]
     },
     "execution_count": 11,
     "metadata": {},
     "output_type": "execute_result"
    }
   ],
   "source": [
    "1\n",
    "2\n",
    "3"
   ]
  },
  {
   "cell_type": "code",
   "execution_count": 13,
   "metadata": {
    "collapsed": true
   },
   "outputs": [],
   "source": [
    "#comment"
   ]
  },
  {
   "cell_type": "markdown",
   "metadata": {},
   "source": [
    "\"\"\"asiashia\"\"\""
   ]
  },
  {
   "cell_type": "code",
   "execution_count": 15,
   "metadata": {
    "collapsed": true
   },
   "outputs": [],
   "source": [
    "import math"
   ]
  },
  {
   "cell_type": "code",
   "execution_count": 16,
   "metadata": {
    "collapsed": false
   },
   "outputs": [
    {
     "name": "stdout",
     "output_type": "stream",
     "text": [
      "2.2360679775\n"
     ]
    }
   ],
   "source": [
    "a = 5.\n",
    "b = 2.\n",
    "c = a/b\n",
    "\n",
    "d = math.sqrt(a)\n",
    "print d"
   ]
  },
  {
   "cell_type": "code",
   "execution_count": 17,
   "metadata": {
    "collapsed": false
   },
   "outputs": [
    {
     "name": "stdout",
     "output_type": "stream",
     "text": [
      "3.14159265359\n"
     ]
    }
   ],
   "source": [
    "print math.pi"
   ]
  },
  {
   "cell_type": "code",
   "execution_count": 19,
   "metadata": {
    "collapsed": false
   },
   "outputs": [
    {
     "name": "stdout",
     "output_type": "stream",
     "text": [
      "3.14159265359\n",
      "4\n"
     ]
    }
   ],
   "source": [
    "from math import pi\n",
    "print(pi)\n",
    "pi = 4\n",
    "print pi"
   ]
  },
  {
   "cell_type": "code",
   "execution_count": 21,
   "metadata": {
    "collapsed": true
   },
   "outputs": [],
   "source": [
    "import numpy as np"
   ]
  },
  {
   "cell_type": "code",
   "execution_count": 22,
   "metadata": {
    "collapsed": false
   },
   "outputs": [
    {
     "name": "stdout",
     "output_type": "stream",
     "text": [
      "[   3.5    2.2    8.7  125.2    4.3]\n"
     ]
    }
   ],
   "source": [
    "q = np.array([3.5, 2.2, 8.7, 125.2, 4.3])\n",
    "print q"
   ]
  },
  {
   "cell_type": "code",
   "execution_count": 23,
   "metadata": {
    "collapsed": false
   },
   "outputs": [
    {
     "name": "stdout",
     "output_type": "stream",
     "text": [
      "[   8.5    7.2   13.7  130.2    9.3]\n"
     ]
    }
   ],
   "source": [
    "r = q + 5\n",
    "print(r)"
   ]
  },
  {
   "cell_type": "code",
   "execution_count": 24,
   "metadata": {
    "collapsed": false
   },
   "outputs": [
    {
     "name": "stdout",
     "output_type": "stream",
     "text": [
      "[  1.22500000e+01   4.84000000e+00   7.56900000e+01   1.56750400e+04\n",
      "   1.84900000e+01]\n"
     ]
    }
   ],
   "source": [
    "s = q ** 2\n",
    "print(s)"
   ]
  },
  {
   "cell_type": "code",
   "execution_count": 29,
   "metadata": {
    "collapsed": false
   },
   "outputs": [
    {
     "name": "stdout",
     "output_type": "stream",
     "text": [
      "[0 1 2 3 4 5 6]\n"
     ]
    }
   ],
   "source": [
    "t = np.arange(7)\n",
    "print(t)"
   ]
  },
  {
   "cell_type": "code",
   "execution_count": 30,
   "metadata": {
    "collapsed": false
   },
   "outputs": [
    {
     "name": "stdout",
     "output_type": "stream",
     "text": [
      "[40 41 42 43 44 45 46]\n"
     ]
    }
   ],
   "source": [
    "u = np.arange(40, 47)\n",
    "print(u)"
   ]
  },
  {
   "cell_type": "code",
   "execution_count": 31,
   "metadata": {
    "collapsed": false
   },
   "outputs": [
    {
     "data": {
      "text/plain": [
       "7"
      ]
     },
     "execution_count": 31,
     "metadata": {},
     "output_type": "execute_result"
    }
   ],
   "source": [
    "u.size"
   ]
  },
  {
   "cell_type": "code",
   "execution_count": 32,
   "metadata": {
    "collapsed": false
   },
   "outputs": [
    {
     "data": {
      "text/plain": [
       "array([40, 42, 44, 46, 48, 50, 52])"
      ]
     },
     "execution_count": 32,
     "metadata": {},
     "output_type": "execute_result"
    }
   ],
   "source": [
    "t + u"
   ]
  },
  {
   "cell_type": "code",
   "execution_count": 33,
   "metadata": {
    "collapsed": false
   },
   "outputs": [
    {
     "name": "stdout",
     "output_type": "stream",
     "text": [
      "28.78\n",
      "28.78\n"
     ]
    }
   ],
   "source": [
    "print(np.mean(q))\n",
    "print(q.mean())"
   ]
  },
  {
   "cell_type": "code",
   "execution_count": 40,
   "metadata": {
    "collapsed": false
   },
   "outputs": [],
   "source": [
    "#Plotting\n",
    "#Import plotting library\n",
    "from matplotlib import pyplot as plt\n",
    "%matplotlib inline"
   ]
  },
  {
   "cell_type": "code",
   "execution_count": 36,
   "metadata": {
    "collapsed": false
   },
   "outputs": [
    {
     "name": "stdout",
     "output_type": "stream",
     "text": [
      "2.0\n"
     ]
    }
   ],
   "source": [
    "print math.sqrt(4)"
   ]
  },
  {
   "cell_type": "code",
   "execution_count": 41,
   "metadata": {
    "collapsed": false
   },
   "outputs": [
    {
     "data": {
      "text/plain": [
       "[<matplotlib.lines.Line2D at 0x7f525d4f5f90>]"
      ]
     },
     "execution_count": 41,
     "metadata": {},
     "output_type": "execute_result"
    },
    {
     "data": {
      "image/png": "[encoded data removed]",
      "text/plain": [
       "<matplotlib.figure.Figure at 0x7f528c140f90>"
      ]
     },
     "metadata": {},
     "output_type": "display_data"
    }
   ],
   "source": [
    "#Plor u vs t\n",
    "plt.plot(t, u, 'bo') # the 'bo' means plot blye circles"
   ]
  },
  {
   "cell_type": "code",
   "execution_count": 102,
   "metadata": {
    "collapsed": false,
    "scrolled": false
   },
   "outputs": [],
   "source": [
    "#help(plt.errorbar)"
   ]
  },
  {
   "cell_type": "code",
   "execution_count": 55,
   "metadata": {
    "collapsed": false
   },
   "outputs": [
    {
     "name": "stdout",
     "output_type": "stream",
     "text": [
      "[ 0.75  0.75  0.75  0.75  0.75  0.75  0.75]\n"
     ]
    }
   ],
   "source": [
    "uerr = np.ones(7) * 0.75\n",
    "print(uerr)"
   ]
  },
  {
   "cell_type": "code",
   "execution_count": 56,
   "metadata": {
    "collapsed": false
   },
   "outputs": [
    {
     "data": {
      "text/plain": [
       "<matplotlib.text.Text at 0x7f5259e5eed0>"
      ]
     },
     "execution_count": 56,
     "metadata": {},
     "output_type": "execute_result"
    },
    {
     "data": {
      "image/png": "[encoded data removed]",
      "text/plain": [
       "<matplotlib.figure.Figure at 0x7f525ab46990>"
      ]
     },
     "metadata": {},
     "output_type": "display_data"
    }
   ],
   "source": [
    "plt.errorbar(t, u, yerr = uerr, fmt = 'bo')\n",
    "plt.xlabel('t')\n",
    "plt.ylabel('u')"
   ]
  },
  {
   "cell_type": "code",
   "execution_count": 50,
   "metadata": {
    "collapsed": true
   },
   "outputs": [],
   "source": [
    "# Import the library to read in tables from a file\n",
    "from astropy.io import ascii"
   ]
  },
  {
   "cell_type": "code",
   "execution_count": 64,
   "metadata": {
    "collapsed": false
   },
   "outputs": [],
   "source": [
    "infile = '/home/cosmos/Desktop/AIJ/hubble_data_riess2016.txt'\n",
    "hdat1 = ascii.read(infile, names=['galaxy', 'supernova', 'm', 'm_err'\n",
    "                                  , 'DM', 'DM_err', 'M', 'M_err', 'v'])"
   ]
  },
  {
   "cell_type": "code",
   "execution_count": 65,
   "metadata": {
    "collapsed": false
   },
   "outputs": [
    {
     "data": {
      "text/html": [
       "&lt;Table length=19&gt;\n",
       "<table id=\"table139991650904592\">\n",
       "<thead><tr><th>galaxy</th><th>supernova</th><th>m</th><th>m_err</th><th>DM</th><th>DM_err</th><th>M</th><th>M_err</th><th>v</th></tr></thead>\n",
       "<thead><tr><th>str5</th><th>str6</th><th>float64</th><th>float64</th><th>float64</th><th>float64</th><th>float64</th><th>float64</th><th>int64</th></tr></thead>\n",
       "<tr><td>M101</td><td>2011fe</td><td>13.31</td><td>0.117</td><td>29.135</td><td>0.045</td><td>-19.389</td><td>0.125</td><td>241</td></tr>\n",
       "<tr><td>N1015</td><td>2009ig</td><td>17.015</td><td>0.123</td><td>32.497</td><td>0.081</td><td>-19.047</td><td>0.147</td><td>2629</td></tr>\n",
       "<tr><td>N1309</td><td>2002fk</td><td>16.756</td><td>0.116</td><td>32.523</td><td>0.055</td><td>-19.331</td><td>0.128</td><td>2136</td></tr>\n",
       "<tr><td>N1365</td><td>2012fr</td><td>15.482</td><td>0.125</td><td>31.307</td><td>0.057</td><td>-19.39</td><td>0.137</td><td>1636</td></tr>\n",
       "<tr><td>N1448</td><td>2001el</td><td>15.765</td><td>0.116</td><td>31.311</td><td>0.045</td><td>-19.111</td><td>0.125</td><td>1168</td></tr>\n",
       "<tr><td>N2442</td><td>2015F</td><td>15.84</td><td>0.142</td><td>31.511</td><td>0.053</td><td>-19.236</td><td>0.152</td><td>1466</td></tr>\n",
       "<tr><td>N3021</td><td>1995al</td><td>16.527</td><td>0.117</td><td>32.498</td><td>0.09</td><td>-19.535</td><td>0.147</td><td>1541</td></tr>\n",
       "<tr><td>N3370</td><td>1994ae</td><td>16.476</td><td>0.115</td><td>32.072</td><td>0.049</td><td>-19.161</td><td>0.125</td><td>1279</td></tr>\n",
       "<tr><td>N3447</td><td>2012ht</td><td>16.265</td><td>0.124</td><td>31.908</td><td>0.043</td><td>-19.207</td><td>0.131</td><td>1067</td></tr>\n",
       "<tr><td>N3972</td><td>2011by</td><td>16.048</td><td>0.116</td><td>31.587</td><td>0.07</td><td>-19.103</td><td>0.136</td><td>852</td></tr>\n",
       "<tr><td>N3982</td><td>1998aq</td><td>15.795</td><td>0.115</td><td>31.737</td><td>0.069</td><td>-19.507</td><td>0.134</td><td>1109</td></tr>\n",
       "<tr><td>N4038</td><td>2007sr</td><td>15.797</td><td>0.114</td><td>31.29</td><td>0.112</td><td>-19.058</td><td>0.16</td><td>1642</td></tr>\n",
       "<tr><td>N4424</td><td>2012cg</td><td>15.11</td><td>0.109</td><td>31.08</td><td>0.292</td><td>-19.534</td><td>0.311</td><td>437</td></tr>\n",
       "<tr><td>N4536</td><td>1981B</td><td>15.177</td><td>0.124</td><td>30.906</td><td>0.053</td><td>-19.293</td><td>0.135</td><td>1808</td></tr>\n",
       "<tr><td>N4639</td><td>1990N</td><td>15.983</td><td>0.115</td><td>31.532</td><td>0.071</td><td>-19.113</td><td>0.135</td><td>1018</td></tr>\n",
       "<tr><td>N5584</td><td>2007af</td><td>16.265</td><td>0.115</td><td>31.786</td><td>0.046</td><td>-19.085</td><td>0.124</td><td>1638</td></tr>\n",
       "<tr><td>N5917</td><td>2005cf</td><td>16.572</td><td>0.115</td><td>32.263</td><td>0.102</td><td>-19.255</td><td>0.154</td><td>1904</td></tr>\n",
       "<tr><td>N7250</td><td>2013dy</td><td>15.867</td><td>0.115</td><td>31.499</td><td>0.078</td><td>-19.196</td><td>0.139</td><td>1166</td></tr>\n",
       "<tr><td>U9391</td><td>2003du</td><td>17.034</td><td>0.114</td><td>32.919</td><td>0.063</td><td>-19.449</td><td>0.13</td><td>1914</td></tr>\n",
       "</table>"
      ],
      "text/plain": [
       "<Table length=19>\n",
       "galaxy supernova    m     m_err     DM    DM_err    M     M_err    v  \n",
       " str5     str6   float64 float64 float64 float64 float64 float64 int64\n",
       "------ --------- ------- ------- ------- ------- ------- ------- -----\n",
       "  M101    2011fe   13.31   0.117  29.135   0.045 -19.389   0.125   241\n",
       " N1015    2009ig  17.015   0.123  32.497   0.081 -19.047   0.147  2629\n",
       " N1309    2002fk  16.756   0.116  32.523   0.055 -19.331   0.128  2136\n",
       " N1365    2012fr  15.482   0.125  31.307   0.057  -19.39   0.137  1636\n",
       " N1448    2001el  15.765   0.116  31.311   0.045 -19.111   0.125  1168\n",
       " N2442     2015F   15.84   0.142  31.511   0.053 -19.236   0.152  1466\n",
       " N3021    1995al  16.527   0.117  32.498    0.09 -19.535   0.147  1541\n",
       " N3370    1994ae  16.476   0.115  32.072   0.049 -19.161   0.125  1279\n",
       " N3447    2012ht  16.265   0.124  31.908   0.043 -19.207   0.131  1067\n",
       " N3972    2011by  16.048   0.116  31.587    0.07 -19.103   0.136   852\n",
       " N3982    1998aq  15.795   0.115  31.737   0.069 -19.507   0.134  1109\n",
       " N4038    2007sr  15.797   0.114   31.29   0.112 -19.058    0.16  1642\n",
       " N4424    2012cg   15.11   0.109   31.08   0.292 -19.534   0.311   437\n",
       " N4536     1981B  15.177   0.124  30.906   0.053 -19.293   0.135  1808\n",
       " N4639     1990N  15.983   0.115  31.532   0.071 -19.113   0.135  1018\n",
       " N5584    2007af  16.265   0.115  31.786   0.046 -19.085   0.124  1638\n",
       " N5917    2005cf  16.572   0.115  32.263   0.102 -19.255   0.154  1904\n",
       " N7250    2013dy  15.867   0.115  31.499   0.078 -19.196   0.139  1166\n",
       " U9391    2003du  17.034   0.114  32.919   0.063 -19.449    0.13  1914"
      ]
     },
     "execution_count": 65,
     "metadata": {},
     "output_type": "execute_result"
    }
   ],
   "source": [
    "hdat1"
   ]
  },
  {
   "cell_type": "code",
   "execution_count": 66,
   "metadata": {
    "collapsed": false
   },
   "outputs": [
    {
     "name": "stdout",
     "output_type": "stream",
     "text": [
      "galaxy\n",
      "------\n",
      "  M101\n",
      " N1015\n",
      " N1309\n",
      " N1365\n",
      " N1448\n",
      " N2442\n",
      " N3021\n",
      " N3370\n",
      " N3447\n",
      " N3972\n",
      " N3982\n",
      " N4038\n",
      " N4424\n",
      " N4536\n",
      " N4639\n",
      " N5584\n",
      " N5917\n",
      " N7250\n",
      " U9391\n"
     ]
    }
   ],
   "source": [
    "print(hdat1[\"galaxy\"])"
   ]
  },
  {
   "cell_type": "code",
   "execution_count": 67,
   "metadata": {
    "collapsed": false
   },
   "outputs": [
    {
     "name": "stdout",
     "output_type": "stream",
     "text": [
      "N1365\n"
     ]
    }
   ],
   "source": [
    "print(hdat1[3]['galaxy'])"
   ]
  },
  {
   "cell_type": "code",
   "execution_count": 74,
   "metadata": {
    "collapsed": false
   },
   "outputs": [
    {
     "data": {
      "text/plain": [
       "[<matplotlib.lines.Line2D at 0x7f52579fd710>]"
      ]
     },
     "execution_count": 74,
     "metadata": {},
     "output_type": "execute_result"
    },
    {
     "data": {
      "image/png": "[encoded data removed]",
      "text/plain": [
       "<matplotlib.figure.Figure at 0x7f5257ba8f50>"
      ]
     },
     "metadata": {},
     "output_type": "display_data"
    }
   ],
   "source": [
    "plt.plot(hdat1[\"DM\"], hdat1[\"v\"], \"y*\")"
   ]
  },
  {
   "cell_type": "code",
   "execution_count": 94,
   "metadata": {
    "collapsed": false
   },
   "outputs": [
    {
     "name": "stdout",
     "output_type": "stream",
     "text": [
      "[  6.71428853  31.57911829  31.95950175  18.25576346  18.28942281\n",
      "  20.05395333  31.59366436  25.9656979   24.07686846  20.76825464\n",
      "  22.25358578  18.11340093  16.44371723  15.17749156  20.24883307\n",
      "  22.76145393  28.35306412  19.94343674  38.35305825]\n"
     ]
    }
   ],
   "source": [
    "#Find the distance from the distance modulus and convert from parsec to Megaparsec\n",
    "dist = 10.**((hdat1[\"DM\"].data+5.)/5.) # gives you distance in parsecs\n",
    "dist /= 1.e6\n",
    "print(dist)"
   ]
  },
  {
   "cell_type": "code",
   "execution_count": 95,
   "metadata": {
    "collapsed": false
   },
   "outputs": [
    {
     "data": {
      "text/plain": [
       "<matplotlib.text.Text at 0x7f52579dce90>"
      ]
     },
     "execution_count": 95,
     "metadata": {},
     "output_type": "execute_result"
    },
    {
     "data": {
      "image/png": "[encoded data removed]",
      "text/plain": [
       "<matplotlib.figure.Figure at 0x7f5257987110>"
      ]
     },
     "metadata": {},
     "output_type": "display_data"
    }
   ],
   "source": [
    "plt.plot(dist, hdat1['v'], 'gs')\n",
    "plt.xlabel('Distance (Mpc)') #mega parsecs\n",
    "plt.ylabel('Speed (km/s)')"
   ]
  },
  {
   "cell_type": "code",
   "execution_count": 117,
   "metadata": {
    "collapsed": false
   },
   "outputs": [],
   "source": [
    "#help(np.polyfit) #deg means power degree (constant, linear, quadratic, cubic, etc.)"
   ]
  },
  {
   "cell_type": "code",
   "execution_count": 97,
   "metadata": {
    "collapsed": false
   },
   "outputs": [
    {
     "name": "stdout",
     "output_type": "stream",
     "text": [
      "[  53.6296996   186.40616205]\n"
     ]
    }
   ],
   "source": [
    "results = np.polyfit(dist, hdat1['v'], 1)\n",
    "print(results)"
   ]
  },
  {
   "cell_type": "code",
   "execution_count": 115,
   "metadata": {
    "collapsed": false
   },
   "outputs": [
    {
     "name": "stdout",
     "output_type": "stream",
     "text": [
      "[  546.49143891  1879.98478943  1900.38464023  1165.45727251  1167.26241339\n",
      "  1261.8936552   1880.76489083  1578.93874052  1477.6413847   1300.20141953\n",
      "  1379.85928252  1157.82241249  1068.27777755  1000.37047505  1272.34499663\n",
      "  1407.09609889  1706.97247347  1255.96668358  2243.26915457]\n",
      "Help on function polyval in module numpy.lib.polynomial:\n",
      "\n",
      "polyval(p, x)\n",
      "    Evaluate a polynomial at specific values.\n",
      "    \n",
      "    If `p` is of length N, this function returns the value:\n",
      "    \n",
      "        ``p[0]*x**(N-1) + p[1]*x**(N-2) + ... + p[N-2]*x + p[N-1]``\n",
      "    \n",
      "    If `x` is a sequence, then `p(x)` is returned for each element of `x`.\n",
      "    If `x` is another polynomial then the composite polynomial `p(x(t))`\n",
      "    is returned.\n",
      "    \n",
      "    Parameters\n",
      "    ----------\n",
      "    p : array_like or poly1d object\n",
      "       1D array of polynomial coefficients (including coefficients equal\n",
      "       to zero) from highest degree to the constant term, or an\n",
      "       instance of poly1d.\n",
      "    x : array_like or poly1d object\n",
      "       A number, a 1D array of numbers, or an instance of poly1d, \"at\"\n",
      "       which to evaluate `p`.\n",
      "    \n",
      "    Returns\n",
      "    -------\n",
      "    values : ndarray or poly1d\n",
      "       If `x` is a poly1d instance, the result is the composition of the two\n",
      "       polynomials, i.e., `x` is \"substituted\" in `p` and the simplified\n",
      "       result is returned. In addition, the type of `x` - array_like or\n",
      "       poly1d - governs the type of the output: `x` array_like => `values`\n",
      "       array_like, `x` a poly1d object => `values` is also.\n",
      "    \n",
      "    See Also\n",
      "    --------\n",
      "    poly1d: A polynomial class.\n",
      "    \n",
      "    Notes\n",
      "    -----\n",
      "    Horner's scheme [1]_ is used to evaluate the polynomial. Even so,\n",
      "    for polynomials of high degree the values may be inaccurate due to\n",
      "    rounding errors. Use carefully.\n",
      "    \n",
      "    References\n",
      "    ----------\n",
      "    .. [1] I. N. Bronshtein, K. A. Semendyayev, and K. A. Hirsch (Eng.\n",
      "       trans. Ed.), *Handbook of Mathematics*, New York, Van Nostrand\n",
      "       Reinhold Co., 1985, pg. 720.\n",
      "    \n",
      "    Examples\n",
      "    --------\n",
      "    >>> np.polyval([3,0,1], 5)  # 3 * 5**2 + 0 * 5**1 + 1\n",
      "    76\n",
      "    >>> np.polyval([3,0,1], np.poly1d(5))\n",
      "    poly1d([ 76.])\n",
      "    >>> np.polyval(np.poly1d([3,0,1]), 5)\n",
      "    76\n",
      "    >>> np.polyval(np.poly1d([3,0,1]), np.poly1d(5))\n",
      "    poly1d([ 76.])\n",
      "\n"
     ]
    }
   ],
   "source": [
    "v_model = np.polyval(results, dist)\n",
    "print(v_model)\n",
    "help(np.polyval)"
   ]
  },
  {
   "cell_type": "code",
   "execution_count": 114,
   "metadata": {
    "collapsed": false,
    "scrolled": true
   },
   "outputs": [
    {
     "data": {
      "image/png": "[encoded data removed]",
      "text/plain": [
       "<matplotlib.figure.Figure at 0x7f525761aa90>"
      ]
     },
     "metadata": {},
     "output_type": "display_data"
    }
   ],
   "source": [
    "plt.plot(dist, hdat1['v'], 'gs')\n",
    "plt.xlabel('Distance (Mpc)') #mega parsecs\n",
    "plt.ylabel('Speed (km/s)')\n",
    "plt.plot(dist, v_model, 'b')\n",
    "plt.savefig('hubble_1.png')"
   ]
  },
  {
   "cell_type": "code",
   "execution_count": 107,
   "metadata": {
    "collapsed": false
   },
   "outputs": [],
   "source": [
    "infile = '/home/cosmos/Desktop/AIJ/freedman2001_tab3.txt'\n",
    "hdat2 = ascii.read(infile, data_start = 11, names = [\"Galaxy\", \"mu_rev\", \"v\"])"
   ]
  },
  {
   "cell_type": "code",
   "execution_count": 108,
   "metadata": {
    "collapsed": false
   },
   "outputs": [
    {
     "name": "stdout",
     "output_type": "stream",
     "text": [
      " Galaxy mu_rev  v  \n",
      "------- ------ ----\n",
      "ngc1326   31.0 1360\n",
      "ngc1365   31.2 1636\n",
      "ngc1425  31.54 1510\n",
      "ngc2090  30.27  921\n",
      "ngc2403  27.48  133\n",
      "ngc2541  30.26  548\n",
      "ngc3031  27.67  -34\n",
      "ngc3198  30.64  660\n",
      "ngc3319  30.64  739\n",
      "ngc3351   29.9  778\n",
      "    ...    ...  ...\n",
      "ngc4496   30.8 1731\n",
      "ngc4535  30.84 1964\n",
      "ngc4536  30.78 1808\n",
      "ngc4548  30.88  486\n",
      "ngc4639  31.59 1018\n",
      "ngc4725  30.33 1206\n",
      "ngc5253  27.54  407\n",
      "ngc5457  29.18  241\n",
      "ngc7331  30.81  816\n",
      " ic4182  28.26  321\n",
      " ic1613  24.24 -234\n",
      "Length = 27 rows\n"
     ]
    }
   ],
   "source": [
    "print hdat2"
   ]
  },
  {
   "cell_type": "code",
   "execution_count": 109,
   "metadata": {
    "collapsed": false
   },
   "outputs": [
    {
     "data": {
      "text/html": [
       "&lt;Table length=27&gt;\n",
       "<table id=\"table139991629811216\">\n",
       "<thead><tr><th>Galaxy</th><th>mu_rev</th><th>v</th></tr></thead>\n",
       "<thead><tr><th>str7</th><th>float64</th><th>int64</th></tr></thead>\n",
       "<tr><td>ngc1326</td><td>31.0</td><td>1360</td></tr>\n",
       "<tr><td>ngc1365</td><td>31.2</td><td>1636</td></tr>\n",
       "<tr><td>ngc1425</td><td>31.54</td><td>1510</td></tr>\n",
       "<tr><td>ngc2090</td><td>30.27</td><td>921</td></tr>\n",
       "<tr><td>ngc2403</td><td>27.48</td><td>133</td></tr>\n",
       "<tr><td>ngc2541</td><td>30.26</td><td>548</td></tr>\n",
       "<tr><td>ngc3031</td><td>27.67</td><td>-34</td></tr>\n",
       "<tr><td>ngc3198</td><td>30.64</td><td>660</td></tr>\n",
       "<tr><td>ngc3319</td><td>30.64</td><td>739</td></tr>\n",
       "<tr><td>ngc3351</td><td>29.9</td><td>778</td></tr>\n",
       "<tr><td>...</td><td>...</td><td>...</td></tr>\n",
       "<tr><td>ngc4535</td><td>30.84</td><td>1964</td></tr>\n",
       "<tr><td>ngc4536</td><td>30.78</td><td>1808</td></tr>\n",
       "<tr><td>ngc4548</td><td>30.88</td><td>486</td></tr>\n",
       "<tr><td>ngc4639</td><td>31.59</td><td>1018</td></tr>\n",
       "<tr><td>ngc4725</td><td>30.33</td><td>1206</td></tr>\n",
       "<tr><td>ngc5253</td><td>27.54</td><td>407</td></tr>\n",
       "<tr><td>ngc5457</td><td>29.18</td><td>241</td></tr>\n",
       "<tr><td>ngc7331</td><td>30.81</td><td>816</td></tr>\n",
       "<tr><td>ic4182</td><td>28.26</td><td>321</td></tr>\n",
       "<tr><td>ic1613</td><td>24.24</td><td>-234</td></tr>\n",
       "</table>"
      ],
      "text/plain": [
       "<Table length=27>\n",
       " Galaxy  mu_rev   v  \n",
       "  str7  float64 int64\n",
       "------- ------- -----\n",
       "ngc1326    31.0  1360\n",
       "ngc1365    31.2  1636\n",
       "ngc1425   31.54  1510\n",
       "ngc2090   30.27   921\n",
       "ngc2403   27.48   133\n",
       "ngc2541   30.26   548\n",
       "ngc3031   27.67   -34\n",
       "ngc3198   30.64   660\n",
       "ngc3319   30.64   739\n",
       "ngc3351    29.9   778\n",
       "    ...     ...   ...\n",
       "ngc4535   30.84  1964\n",
       "ngc4536   30.78  1808\n",
       "ngc4548   30.88   486\n",
       "ngc4639   31.59  1018\n",
       "ngc4725   30.33  1206\n",
       "ngc5253   27.54   407\n",
       "ngc5457   29.18   241\n",
       "ngc7331   30.81   816\n",
       " ic4182   28.26   321\n",
       " ic1613   24.24  -234"
      ]
     },
     "execution_count": 109,
     "metadata": {},
     "output_type": "execute_result"
    }
   ],
   "source": [
    "hdat2"
   ]
  },
  {
   "cell_type": "code",
   "execution_count": 112,
   "metadata": {
    "collapsed": false
   },
   "outputs": [
    {
     "data": {
      "text/html": [
       "&lt;Column name=&apos;mu_rev&apos; dtype=&apos;float64&apos; length=27&gt;\n",
       "<table>\n",
       "<tr><td>0.0158489319246</td></tr>\n",
       "<tr><td>0.0173780082875</td></tr>\n",
       "<tr><td>0.0203235701094</td></tr>\n",
       "<tr><td>0.0113240036324</td></tr>\n",
       "<tr><td>0.00313328572432</td></tr>\n",
       "<tr><td>0.0112719745618</td></tr>\n",
       "<tr><td>0.00341979442514</td></tr>\n",
       "<tr><td>0.0134276496114</td></tr>\n",
       "<tr><td>0.0134276496114</td></tr>\n",
       "<tr><td>0.00954992586021</td></tr>\n",
       "<tr><td>0.00977237220956</td></tr>\n",
       "<tr><td>0.00648634433548</td></tr>\n",
       "<tr><td>...</td></tr>\n",
       "<tr><td>0.0172186857499</td></tr>\n",
       "<tr><td>0.0144543977075</td></tr>\n",
       "<tr><td>0.0147231250243</td></tr>\n",
       "<tr><td>0.0143218789927</td></tr>\n",
       "<tr><td>0.014996848355</td></tr>\n",
       "<tr><td>0.020796966871</td></tr>\n",
       "<tr><td>0.0116412602941</td></tr>\n",
       "<tr><td>0.00322106879128</td></tr>\n",
       "<tr><td>0.00685488226453</td></tr>\n",
       "<tr><td>0.0145211161759</td></tr>\n",
       "<tr><td>0.00448745389933</td></tr>\n",
       "<tr><td>0.000704693068967</td></tr>\n",
       "</table>"
      ],
      "text/plain": [
       "<Column name='mu_rev' dtype='float64' length=27>\n",
       "  0.0158489319246\n",
       "  0.0173780082875\n",
       "  0.0203235701094\n",
       "  0.0113240036324\n",
       " 0.00313328572432\n",
       "  0.0112719745618\n",
       " 0.00341979442514\n",
       "  0.0134276496114\n",
       "  0.0134276496114\n",
       " 0.00954992586021\n",
       " 0.00977237220956\n",
       " 0.00648634433548\n",
       "              ...\n",
       "  0.0172186857499\n",
       "  0.0144543977075\n",
       "  0.0147231250243\n",
       "  0.0143218789927\n",
       "   0.014996848355\n",
       "   0.020796966871\n",
       "  0.0116412602941\n",
       " 0.00322106879128\n",
       " 0.00685488226453\n",
       "  0.0145211161759\n",
       " 0.00448745389933\n",
       "0.000704693068967"
      ]
     },
     "execution_count": 112,
     "metadata": {},
     "output_type": "execute_result"
    }
   ],
   "source": [
    "distance = 10**(1 + hdat2[\"mu_rev\"]/5)\n",
    "distance /= 1.e9\n",
    "distance"
   ]
  },
  {
   "cell_type": "code",
   "execution_count": 121,
   "metadata": {
    "collapsed": false
   },
   "outputs": [
    {
     "data": {
      "image/png": "[encoded data removed]",
      "text/plain": [
       "<matplotlib.figure.Figure at 0x7f525766ac90>"
      ]
     },
     "metadata": {},
     "output_type": "display_data"
    }
   ],
   "source": [
    "plt.plot(distance, hdat2['v'], 'r*')\n",
    "plt.xlabel('Distance (Mpc)') #mega parsecs\n",
    "plt.ylabel('Speed (km/s)')\n",
    "line = np.polyval(np.polyfit(distance, hdat2['v'], 1), distance)\n",
    "plt.plot(distance, line, \"b\")\n",
    "plt.savefig('hubble_2.png')"
   ]
  },
  {
   "cell_type": "code",
   "execution_count": null,
   "metadata": {
    "collapsed": true
   },
   "outputs": [],
   "source": []
  }
 ],
 "metadata": {
  "kernelspec": {
   "display_name": "Python 2",
   "language": "python",
   "name": "python2"
  },
  "language_info": {
   "codemirror_mode": {
    "name": "ipython",
    "version": 2
   },
   "file_extension": ".py",
   "mimetype": "text/x-python",
   "name": "python",
   "nbconvert_exporter": "python",
   "pygments_lexer": "ipython2",
   "version": "2.7.11"
  }
 },
 "nbformat": 4,
 "nbformat_minor": 0
}
